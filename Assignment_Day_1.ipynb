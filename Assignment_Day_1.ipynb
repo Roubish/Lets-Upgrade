{
 "cells": [
  {
   "cell_type": "markdown",
   "metadata": {},
   "source": [
    "## Assignment Day 1 Solution "
   ]
  },
  {
   "cell_type": "markdown",
   "metadata": {},
   "source": [
    "## Q. Given the following jumbled word, OBANWRI guess the correct English word.\n",
    "## ANS: RAINBOW"
   ]
  },
  {
   "cell_type": "code",
   "execution_count": 14,
   "metadata": {},
   "outputs": [
    {
     "name": "stdout",
     "output_type": "stream",
     "text": [
      "Correct\n"
     ]
    }
   ],
   "source": [
    "options = [ 'RANIBOW', 'RAINBOW','BOWRANI','ROBWANI']\n",
    "correctOption = \"RAINBOW\"\n",
    "for option in options:\n",
    "    if(option == \"RAINBOW\" and option == correctOption): \n",
    "        print(\"Correct\")\n",
    "        break\n",
    "else:\n",
    "    print(\"Wrong\")"
   ]
  },
  {
   "cell_type": "markdown",
   "metadata": {},
   "source": [
    "## Q. Write a program which prints “LETS UPGRADE”. (Please note that you have to\n",
    "## print in ALL CAPS as given)"
   ]
  },
  {
   "cell_type": "code",
   "execution_count": 1,
   "metadata": {},
   "outputs": [
    {
     "name": "stdout",
     "output_type": "stream",
     "text": [
      "LETS UPGRADE\n"
     ]
    }
   ],
   "source": [
    "print('LETS UPGRADE')"
   ]
  },
  {
   "cell_type": "markdown",
   "metadata": {},
   "source": [
    "## Q. Write a program that takes cost price and selling price as input and displays whether the transaction is a Profit or a Loss or Neither."
   ]
  },
  {
   "cell_type": "code",
   "execution_count": 7,
   "metadata": {},
   "outputs": [
    {
     "name": "stdout",
     "output_type": "stream",
     "text": [
      " 4700\n",
      " 500\n",
      "Total= 4200.0\n"
     ]
    }
   ],
   "source": [
    "cost_price = float(input(\" \"))\n",
    "selling_price = float(input(\" \"))\n",
    "if(cost_price > selling_price):\n",
    "   amount = cost_price - selling_price\n",
    "   print(\"Total= {0}\".format(amount))\n",
    "elif(SP > cost_price):\n",
    "   amount = selling_price - cost_price\n",
    "   print(\"Total Profit = {0}\".format(amount))\n",
    "else:\n",
    "   print(\" \")"
   ]
  },
  {
   "cell_type": "markdown",
   "metadata": {},
   "source": [
    "## Q. Write a program that takes cost price and selling price as input and displays whether the transaction is a Profit or a Loss or Neither.\n",
    "## INPUT FORMAT\n",
    "### The first line contains the cost price.\n",
    "### The second line contains the selling price.\n"
   ]
  },
  {
   "cell_type": "code",
   "execution_count": 1,
   "metadata": {},
   "outputs": [
    {
     "name": "stdout",
     "output_type": "stream",
     "text": [
      "12\n",
      "13\n",
      "Neither"
     ]
    }
   ],
   "source": [
    "cost_price=int(input(''))\n",
    "selling_price = int(input(''))\n",
    "if(cost_price > selling_price):\n",
    "    print(\"profit\",end='')\n",
    "elif cost_price > selling_price:\n",
    "    print('Loss', end='')\n",
    "else: \n",
    "    print(\"Neither\", end='')\n",
    "    \n",
    "    "
   ]
  },
  {
   "cell_type": "markdown",
   "metadata": {},
   "source": [
    "## Q. Write a program that takes an amount in Indian Rupees as input. You need to find its equivalent in Euro and display it. Assume 1 Euro equals Rs. 80.\n",
    "### Please note that you are expected to stick to the given input and output format as in sample test cases. Please don't add any extra lines such as 'Enter a number', etc."
   ]
  },
  {
   "cell_type": "code",
   "execution_count": null,
   "metadata": {},
   "outputs": [],
   "source": [
    "def convert(self, from_currency, to_currency, amount): \n",
    "    initial_amount = amount \n",
    "    if from_currency != 'USD' : \n",
    "        amount = amount / self.currencies[from_currency]  \n",
    "    amount = round(amount * self.currencies[to_currency], 4) \n",
    "    return amount"
   ]
  },
  {
   "cell_type": "code",
   "execution_count": null,
   "metadata": {},
   "outputs": [],
   "source": []
  }
 ],
 "metadata": {
  "kernelspec": {
   "display_name": "Python 3",
   "language": "python",
   "name": "python3"
  },
  "language_info": {
   "codemirror_mode": {
    "name": "ipython",
    "version": 3
   },
   "file_extension": ".py",
   "mimetype": "text/x-python",
   "name": "python",
   "nbconvert_exporter": "python",
   "pygments_lexer": "ipython3",
   "version": "3.8.3"
  }
 },
 "nbformat": 4,
 "nbformat_minor": 4
}
